{
 "cells": [
  {
   "cell_type": "code",
   "execution_count": 165,
   "id": "8e7aff98",
   "metadata": {},
   "outputs": [],
   "source": [
    "import pandas as pd\n",
    "import numpy as np\n",
    "from pathlib import Path"
   ]
  },
  {
   "cell_type": "code",
   "execution_count": 166,
   "id": "4ed7afb0",
   "metadata": {
    "scrolled": false
   },
   "outputs": [
    {
     "data": {
      "text/html": [
       "<div>\n",
       "<style scoped>\n",
       "    .dataframe tbody tr th:only-of-type {\n",
       "        vertical-align: middle;\n",
       "    }\n",
       "\n",
       "    .dataframe tbody tr th {\n",
       "        vertical-align: top;\n",
       "    }\n",
       "\n",
       "    .dataframe thead th {\n",
       "        text-align: right;\n",
       "    }\n",
       "</style>\n",
       "<table border=\"1\" class=\"dataframe\">\n",
       "  <thead>\n",
       "    <tr style=\"text-align: right;\">\n",
       "      <th></th>\n",
       "      <th>company</th>\n",
       "      <th>location</th>\n",
       "      <th>industry</th>\n",
       "      <th>total_laid_off</th>\n",
       "      <th>percentage_laid_off</th>\n",
       "      <th>date</th>\n",
       "      <th>stage</th>\n",
       "      <th>country</th>\n",
       "      <th>funds_raised</th>\n",
       "    </tr>\n",
       "  </thead>\n",
       "  <tbody>\n",
       "    <tr>\n",
       "      <th>0</th>\n",
       "      <td>Pear Therapeutics</td>\n",
       "      <td>Boston</td>\n",
       "      <td>Healthcare</td>\n",
       "      <td>170.0</td>\n",
       "      <td>0.92</td>\n",
       "      <td>2023-04-07</td>\n",
       "      <td>Post-IPO</td>\n",
       "      <td>United States</td>\n",
       "      <td>409.0</td>\n",
       "    </tr>\n",
       "    <tr>\n",
       "      <th>1</th>\n",
       "      <td>ZestMoney</td>\n",
       "      <td>Bengaluru</td>\n",
       "      <td>Finance</td>\n",
       "      <td>100.0</td>\n",
       "      <td>0.20</td>\n",
       "      <td>2023-04-07</td>\n",
       "      <td>Series C</td>\n",
       "      <td>India</td>\n",
       "      <td>120.0</td>\n",
       "    </tr>\n",
       "    <tr>\n",
       "      <th>2</th>\n",
       "      <td>Absolute Software</td>\n",
       "      <td>Vancouver</td>\n",
       "      <td>Security</td>\n",
       "      <td>40.0</td>\n",
       "      <td>0.05</td>\n",
       "      <td>2023-04-06</td>\n",
       "      <td>Post-IPO</td>\n",
       "      <td>Canada</td>\n",
       "      <td>NaN</td>\n",
       "    </tr>\n",
       "    <tr>\n",
       "      <th>3</th>\n",
       "      <td>Avocargo</td>\n",
       "      <td>Berlin</td>\n",
       "      <td>Transportation</td>\n",
       "      <td>16.0</td>\n",
       "      <td>1.00</td>\n",
       "      <td>2023-04-06</td>\n",
       "      <td>Seed</td>\n",
       "      <td>Germany</td>\n",
       "      <td>NaN</td>\n",
       "    </tr>\n",
       "    <tr>\n",
       "      <th>4</th>\n",
       "      <td>Dunzo</td>\n",
       "      <td>Bengaluru</td>\n",
       "      <td>Food</td>\n",
       "      <td>300.0</td>\n",
       "      <td>0.30</td>\n",
       "      <td>2023-04-05</td>\n",
       "      <td>Unknown</td>\n",
       "      <td>India</td>\n",
       "      <td>382.0</td>\n",
       "    </tr>\n",
       "  </tbody>\n",
       "</table>\n",
       "</div>"
      ],
      "text/plain": [
       "             company   location        industry  total_laid_off  \\\n",
       "0  Pear Therapeutics     Boston      Healthcare           170.0   \n",
       "1          ZestMoney  Bengaluru         Finance           100.0   \n",
       "2  Absolute Software  Vancouver        Security            40.0   \n",
       "3           Avocargo     Berlin  Transportation            16.0   \n",
       "4              Dunzo  Bengaluru            Food           300.0   \n",
       "\n",
       "   percentage_laid_off        date     stage        country  funds_raised  \n",
       "0                 0.92  2023-04-07  Post-IPO  United States         409.0  \n",
       "1                 0.20  2023-04-07  Series C          India         120.0  \n",
       "2                 0.05  2023-04-06  Post-IPO         Canada           NaN  \n",
       "3                 1.00  2023-04-06      Seed        Germany           NaN  \n",
       "4                 0.30  2023-04-05   Unknown          India         382.0  "
      ]
     },
     "execution_count": 166,
     "metadata": {},
     "output_type": "execute_result"
    }
   ],
   "source": [
    "# Load the layoff dataset.\n",
    "file_path = \"./Resources/layoffs.csv\"\n",
    "layoff_df = pd.read_csv(file_path, index_col=False)\n",
    "layoff_df.head()"
   ]
  },
  {
   "cell_type": "code",
   "execution_count": 167,
   "id": "a536c6ee",
   "metadata": {
    "scrolled": true
   },
   "outputs": [
    {
     "data": {
      "text/html": [
       "<div>\n",
       "<style scoped>\n",
       "    .dataframe tbody tr th:only-of-type {\n",
       "        vertical-align: middle;\n",
       "    }\n",
       "\n",
       "    .dataframe tbody tr th {\n",
       "        vertical-align: top;\n",
       "    }\n",
       "\n",
       "    .dataframe thead th {\n",
       "        text-align: right;\n",
       "    }\n",
       "</style>\n",
       "<table border=\"1\" class=\"dataframe\">\n",
       "  <thead>\n",
       "    <tr style=\"text-align: right;\">\n",
       "      <th></th>\n",
       "      <th>company</th>\n",
       "      <th>location</th>\n",
       "      <th>industry</th>\n",
       "      <th>total_laid_off</th>\n",
       "      <th>percentage_laid_off</th>\n",
       "      <th>date</th>\n",
       "      <th>country</th>\n",
       "    </tr>\n",
       "  </thead>\n",
       "  <tbody>\n",
       "    <tr>\n",
       "      <th>0</th>\n",
       "      <td>Pear Therapeutics</td>\n",
       "      <td>Boston</td>\n",
       "      <td>Healthcare</td>\n",
       "      <td>170.0</td>\n",
       "      <td>0.92</td>\n",
       "      <td>2023-04-07</td>\n",
       "      <td>United States</td>\n",
       "    </tr>\n",
       "    <tr>\n",
       "      <th>1</th>\n",
       "      <td>ZestMoney</td>\n",
       "      <td>Bengaluru</td>\n",
       "      <td>Finance</td>\n",
       "      <td>100.0</td>\n",
       "      <td>0.20</td>\n",
       "      <td>2023-04-07</td>\n",
       "      <td>India</td>\n",
       "    </tr>\n",
       "    <tr>\n",
       "      <th>2</th>\n",
       "      <td>Absolute Software</td>\n",
       "      <td>Vancouver</td>\n",
       "      <td>Security</td>\n",
       "      <td>40.0</td>\n",
       "      <td>0.05</td>\n",
       "      <td>2023-04-06</td>\n",
       "      <td>Canada</td>\n",
       "    </tr>\n",
       "    <tr>\n",
       "      <th>3</th>\n",
       "      <td>Avocargo</td>\n",
       "      <td>Berlin</td>\n",
       "      <td>Transportation</td>\n",
       "      <td>16.0</td>\n",
       "      <td>1.00</td>\n",
       "      <td>2023-04-06</td>\n",
       "      <td>Germany</td>\n",
       "    </tr>\n",
       "    <tr>\n",
       "      <th>4</th>\n",
       "      <td>Dunzo</td>\n",
       "      <td>Bengaluru</td>\n",
       "      <td>Food</td>\n",
       "      <td>300.0</td>\n",
       "      <td>0.30</td>\n",
       "      <td>2023-04-05</td>\n",
       "      <td>India</td>\n",
       "    </tr>\n",
       "  </tbody>\n",
       "</table>\n",
       "</div>"
      ],
      "text/plain": [
       "             company   location        industry  total_laid_off  \\\n",
       "0  Pear Therapeutics     Boston      Healthcare           170.0   \n",
       "1          ZestMoney  Bengaluru         Finance           100.0   \n",
       "2  Absolute Software  Vancouver        Security            40.0   \n",
       "3           Avocargo     Berlin  Transportation            16.0   \n",
       "4              Dunzo  Bengaluru            Food           300.0   \n",
       "\n",
       "   percentage_laid_off        date        country  \n",
       "0                 0.92  2023-04-07  United States  \n",
       "1                 0.20  2023-04-07          India  \n",
       "2                 0.05  2023-04-06         Canada  \n",
       "3                 1.00  2023-04-06        Germany  \n",
       "4                 0.30  2023-04-05          India  "
      ]
     },
     "execution_count": 167,
     "metadata": {},
     "output_type": "execute_result"
    }
   ],
   "source": [
    "#Drop columns that are useless\n",
    "lay = layoff_df.drop(columns=['funds_raised', 'stage'])\n",
    "lay.head()"
   ]
  },
  {
   "cell_type": "code",
   "execution_count": 168,
   "id": "ec0716c5",
   "metadata": {
    "scrolled": true
   },
   "outputs": [
    {
     "data": {
      "text/plain": [
       "company                 object\n",
       "location                object\n",
       "industry                object\n",
       "total_laid_off         float64\n",
       "percentage_laid_off    float64\n",
       "date                    object\n",
       "country                 object\n",
       "dtype: object"
      ]
     },
     "execution_count": 168,
     "metadata": {},
     "output_type": "execute_result"
    }
   ],
   "source": [
    "#Check dtypes\n",
    "lay.dtypes"
   ]
  },
  {
   "cell_type": "code",
   "execution_count": 169,
   "id": "90981f4d",
   "metadata": {
    "scrolled": true
   },
   "outputs": [
    {
     "name": "stdout",
     "output_type": "stream",
     "text": [
      "company                        object\n",
      "location                       object\n",
      "industry                       object\n",
      "total_laid_off                float64\n",
      "percentage_laid_off           float64\n",
      "date                   datetime64[ns]\n",
      "country                        object\n",
      "dtype: object\n"
     ]
    }
   ],
   "source": [
    "# Convert dates to datetime\n",
    "\n",
    "lay['date']= pd.to_datetime(lay['date'])\n",
    "print(lay.dtypes)"
   ]
  },
  {
   "cell_type": "code",
   "execution_count": 170,
   "id": "566bb712",
   "metadata": {},
   "outputs": [
    {
     "data": {
      "text/html": [
       "<div>\n",
       "<style scoped>\n",
       "    .dataframe tbody tr th:only-of-type {\n",
       "        vertical-align: middle;\n",
       "    }\n",
       "\n",
       "    .dataframe tbody tr th {\n",
       "        vertical-align: top;\n",
       "    }\n",
       "\n",
       "    .dataframe thead th {\n",
       "        text-align: right;\n",
       "    }\n",
       "</style>\n",
       "<table border=\"1\" class=\"dataframe\">\n",
       "  <thead>\n",
       "    <tr style=\"text-align: right;\">\n",
       "      <th></th>\n",
       "      <th>company</th>\n",
       "      <th>location</th>\n",
       "      <th>industry</th>\n",
       "      <th>total_laid_off</th>\n",
       "      <th>percentage_laid_off</th>\n",
       "      <th>date</th>\n",
       "      <th>country</th>\n",
       "    </tr>\n",
       "  </thead>\n",
       "  <tbody>\n",
       "    <tr>\n",
       "      <th>1457</th>\n",
       "      <td>Enjoy</td>\n",
       "      <td>SF Bay Area</td>\n",
       "      <td>Retail</td>\n",
       "      <td>400.0</td>\n",
       "      <td>0.18</td>\n",
       "      <td>2022-06-30</td>\n",
       "      <td>United States</td>\n",
       "    </tr>\n",
       "    <tr>\n",
       "      <th>1458</th>\n",
       "      <td>Crejo.Fun</td>\n",
       "      <td>Bengaluru</td>\n",
       "      <td>Education</td>\n",
       "      <td>170.0</td>\n",
       "      <td>1.00</td>\n",
       "      <td>2022-06-30</td>\n",
       "      <td>India</td>\n",
       "    </tr>\n",
       "    <tr>\n",
       "      <th>1459</th>\n",
       "      <td>Stash Financial</td>\n",
       "      <td>New York City</td>\n",
       "      <td>Finance</td>\n",
       "      <td>40.0</td>\n",
       "      <td>0.08</td>\n",
       "      <td>2022-06-30</td>\n",
       "      <td>United States</td>\n",
       "    </tr>\n",
       "    <tr>\n",
       "      <th>1460</th>\n",
       "      <td>Nate</td>\n",
       "      <td>New York City</td>\n",
       "      <td>Retail</td>\n",
       "      <td>30.0</td>\n",
       "      <td>0.20</td>\n",
       "      <td>2022-06-30</td>\n",
       "      <td>United States</td>\n",
       "    </tr>\n",
       "    <tr>\n",
       "      <th>1461</th>\n",
       "      <td>Snyk</td>\n",
       "      <td>Boston</td>\n",
       "      <td>Security</td>\n",
       "      <td>30.0</td>\n",
       "      <td>NaN</td>\n",
       "      <td>2022-06-30</td>\n",
       "      <td>United States</td>\n",
       "    </tr>\n",
       "  </tbody>\n",
       "</table>\n",
       "</div>"
      ],
      "text/plain": [
       "              company       location   industry  total_laid_off  \\\n",
       "1457            Enjoy    SF Bay Area     Retail           400.0   \n",
       "1458        Crejo.Fun      Bengaluru  Education           170.0   \n",
       "1459  Stash Financial  New York City    Finance            40.0   \n",
       "1460             Nate  New York City     Retail            30.0   \n",
       "1461             Snyk         Boston   Security            30.0   \n",
       "\n",
       "      percentage_laid_off       date        country  \n",
       "1457                 0.18 2022-06-30  United States  \n",
       "1458                 1.00 2022-06-30          India  \n",
       "1459                 0.08 2022-06-30  United States  \n",
       "1460                 0.20 2022-06-30  United States  \n",
       "1461                  NaN 2022-06-30  United States  "
      ]
     },
     "execution_count": 170,
     "metadata": {},
     "output_type": "execute_result"
    }
   ],
   "source": [
    "# Change data to check for 2nd Quarter\n",
    "lay = lay[(lay['date'] > \"2022-03-31\")&(lay['date'] < \"2022-07-01\")]\n",
    "lay.head()"
   ]
  },
  {
   "cell_type": "code",
   "execution_count": 171,
   "id": "24774b02",
   "metadata": {},
   "outputs": [
    {
     "data": {
      "text/html": [
       "<div>\n",
       "<style scoped>\n",
       "    .dataframe tbody tr th:only-of-type {\n",
       "        vertical-align: middle;\n",
       "    }\n",
       "\n",
       "    .dataframe tbody tr th {\n",
       "        vertical-align: top;\n",
       "    }\n",
       "\n",
       "    .dataframe thead th {\n",
       "        text-align: right;\n",
       "    }\n",
       "</style>\n",
       "<table border=\"1\" class=\"dataframe\">\n",
       "  <thead>\n",
       "    <tr style=\"text-align: right;\">\n",
       "      <th></th>\n",
       "      <th>company</th>\n",
       "      <th>location</th>\n",
       "      <th>industry</th>\n",
       "      <th>total_laid_off</th>\n",
       "      <th>percentage_laid_off</th>\n",
       "      <th>date</th>\n",
       "      <th>country</th>\n",
       "    </tr>\n",
       "  </thead>\n",
       "  <tbody>\n",
       "    <tr>\n",
       "      <th>1457</th>\n",
       "      <td>Enjoy</td>\n",
       "      <td>SF Bay Area</td>\n",
       "      <td>Retail</td>\n",
       "      <td>400.0</td>\n",
       "      <td>0.18</td>\n",
       "      <td>2022-06-30</td>\n",
       "      <td>United States</td>\n",
       "    </tr>\n",
       "    <tr>\n",
       "      <th>1458</th>\n",
       "      <td>Crejo.Fun</td>\n",
       "      <td>Bengaluru</td>\n",
       "      <td>Education</td>\n",
       "      <td>170.0</td>\n",
       "      <td>1.00</td>\n",
       "      <td>2022-06-30</td>\n",
       "      <td>India</td>\n",
       "    </tr>\n",
       "    <tr>\n",
       "      <th>1459</th>\n",
       "      <td>Stash Financial</td>\n",
       "      <td>New York City</td>\n",
       "      <td>Finance</td>\n",
       "      <td>40.0</td>\n",
       "      <td>0.08</td>\n",
       "      <td>2022-06-30</td>\n",
       "      <td>United States</td>\n",
       "    </tr>\n",
       "    <tr>\n",
       "      <th>1460</th>\n",
       "      <td>Nate</td>\n",
       "      <td>New York City</td>\n",
       "      <td>Retail</td>\n",
       "      <td>30.0</td>\n",
       "      <td>0.20</td>\n",
       "      <td>2022-06-30</td>\n",
       "      <td>United States</td>\n",
       "    </tr>\n",
       "    <tr>\n",
       "      <th>1462</th>\n",
       "      <td>Stream</td>\n",
       "      <td>Boulder</td>\n",
       "      <td>Product</td>\n",
       "      <td>20.0</td>\n",
       "      <td>0.12</td>\n",
       "      <td>2022-06-30</td>\n",
       "      <td>United States</td>\n",
       "    </tr>\n",
       "  </tbody>\n",
       "</table>\n",
       "</div>"
      ],
      "text/plain": [
       "              company       location   industry  total_laid_off  \\\n",
       "1457            Enjoy    SF Bay Area     Retail           400.0   \n",
       "1458        Crejo.Fun      Bengaluru  Education           170.0   \n",
       "1459  Stash Financial  New York City    Finance            40.0   \n",
       "1460             Nate  New York City     Retail            30.0   \n",
       "1462           Stream        Boulder    Product            20.0   \n",
       "\n",
       "      percentage_laid_off       date        country  \n",
       "1457                 0.18 2022-06-30  United States  \n",
       "1458                 1.00 2022-06-30          India  \n",
       "1459                 0.08 2022-06-30  United States  \n",
       "1460                 0.20 2022-06-30  United States  \n",
       "1462                 0.12 2022-06-30  United States  "
      ]
     },
     "execution_count": 171,
     "metadata": {},
     "output_type": "execute_result"
    }
   ],
   "source": [
    "#Drop the null rows and keep other table\n",
    "lay_drop = lay.dropna()\n",
    "lay_drop.head()"
   ]
  },
  {
   "cell_type": "code",
   "execution_count": 172,
   "id": "b2c303fc",
   "metadata": {
    "scrolled": true
   },
   "outputs": [
    {
     "data": {
      "text/plain": [
       "company                303\n",
       "location               303\n",
       "industry               303\n",
       "total_laid_off         229\n",
       "percentage_laid_off    217\n",
       "date                   303\n",
       "country                303\n",
       "dtype: int64"
      ]
     },
     "execution_count": 172,
     "metadata": {},
     "output_type": "execute_result"
    }
   ],
   "source": [
    "#Count with Nan values.\n",
    "lay.count()"
   ]
  },
  {
   "cell_type": "code",
   "execution_count": 173,
   "id": "bd6beb27",
   "metadata": {},
   "outputs": [
    {
     "data": {
      "text/plain": [
       "company                176\n",
       "location               176\n",
       "industry               176\n",
       "total_laid_off         176\n",
       "percentage_laid_off    176\n",
       "date                   176\n",
       "country                176\n",
       "dtype: int64"
      ]
     },
     "execution_count": 173,
     "metadata": {},
     "output_type": "execute_result"
    }
   ],
   "source": [
    "#Count with Nan Dropped\n",
    "lay_drop.count()"
   ]
  },
  {
   "cell_type": "code",
   "execution_count": 177,
   "id": "4ab6f4ab",
   "metadata": {},
   "outputs": [],
   "source": [
    "#Create Csv with Nan\n",
    "lay.to_csv(\"quarter2_nan.csv\", encoding=\"utf-8\",index = False)"
   ]
  },
  {
   "cell_type": "code",
   "execution_count": 178,
   "id": "59e1f6ba",
   "metadata": {},
   "outputs": [],
   "source": [
    "#Create Csv clean\n",
    "lay_drop.to_csv(\"quarter2.csv\", encoding=\"utf-8\",index = False)"
   ]
  },
  {
   "cell_type": "code",
   "execution_count": null,
   "id": "2ff9d027",
   "metadata": {},
   "outputs": [],
   "source": []
  }
 ],
 "metadata": {
  "kernelspec": {
   "display_name": "Python 3 (ipykernel)",
   "language": "python",
   "name": "python3"
  },
  "language_info": {
   "codemirror_mode": {
    "name": "ipython",
    "version": 3
   },
   "file_extension": ".py",
   "mimetype": "text/x-python",
   "name": "python",
   "nbconvert_exporter": "python",
   "pygments_lexer": "ipython3",
   "version": "3.9.13"
  }
 },
 "nbformat": 4,
 "nbformat_minor": 5
}
